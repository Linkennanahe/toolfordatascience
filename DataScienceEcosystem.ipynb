{
 "cells": [
  {
   "cell_type": "markdown",
   "id": "0fd5793e",
   "metadata": {},
   "source": [
    "<b>Exercise 1: Create a Jupyter Notebook</b>"
   ]
  },
  {
   "cell_type": "markdown",
   "id": "0eef2f7d",
   "metadata": {},
   "source": [
    "<b>Exercise 2: Create markdown cell with title of the notebook</b>"
   ]
  },
  {
   "cell_type": "markdown",
   "id": "a9698478",
   "metadata": {},
   "source": [
    "# Data Science Tools and Ecosystem"
   ]
  },
  {
   "cell_type": "markdown",
   "id": "cebc5d59",
   "metadata": {},
   "source": [
    "<b>Exercise 3 - Create a markdown cell for an introduction</b>"
   ]
  },
  {
   "cell_type": "markdown",
   "id": "f855d7ea",
   "metadata": {},
   "source": [
    "In this notebook, Data Science Tools and Ecosystem are summarized"
   ]
  },
  {
   "cell_type": "markdown",
   "id": "48abde1e",
   "metadata": {},
   "source": [
    "<b>Exercise 4 - Create a markdown cell to list data science languages</b>"
   ]
  },
  {
   "cell_type": "markdown",
   "id": "86b7077a",
   "metadata": {},
   "source": [
    "Some of the popular languages that Data Scientists use are:\n",
    "1. Python\n",
    "2. C++\n",
    "3. JavaScript"
   ]
  },
  {
   "cell_type": "markdown",
   "id": "bb05d7ae",
   "metadata": {},
   "source": [
    "<b>Exercise 5 - Create a markdown cell to list data science libraries</b>"
   ]
  },
  {
   "cell_type": "markdown",
   "id": "88846a4c",
   "metadata": {},
   "source": [
    "Some of the commonly used libraries used by Data Scientist include:\n",
    "1. NumPy\n",
    "2. Matplotlib\n",
    "3. SciPy"
   ]
  },
  {
   "cell_type": "markdown",
   "id": "17172f1f",
   "metadata": {},
   "source": [
    "<b>Exercise 6 - Create a markdown cell with a table of Data Science tools</b>"
   ]
  },
  {
   "cell_type": "markdown",
   "id": "20ba8917",
   "metadata": {},
   "source": [
    "|Data Science Tools|\n",
    "|------------------|\n",
    "|RStudio|\n",
    "|Apache Spark|\n",
    "|Pandas|"
   ]
  },
  {
   "cell_type": "markdown",
   "id": "89e4e55d",
   "metadata": {},
   "source": [
    "<b>Exercise 7 - Create a markdown cell introducing arithmetic expression examples</b>"
   ]
  },
  {
   "cell_type": "markdown",
   "id": "c3495216",
   "metadata": {},
   "source": [
    "<h3>Below are a few examples of evaluating arithmetic expressions in Python</h3>"
   ]
  },
  {
   "cell_type": "markdown",
   "id": "26e10035",
   "metadata": {},
   "source": [
    "<b>Exercise 8 - Create a code cell to multiply and add numbers</b>"
   ]
  },
  {
   "cell_type": "code",
   "execution_count": 2,
   "id": "07e78e39",
   "metadata": {},
   "outputs": [
    {
     "data": {
      "text/plain": [
       "17"
      ]
     },
     "execution_count": 2,
     "metadata": {},
     "output_type": "execute_result"
    }
   ],
   "source": [
    "(3*4)+5"
   ]
  },
  {
   "cell_type": "markdown",
   "id": "d1d70df2",
   "metadata": {},
   "source": [
    "<b>Exercise 9 - Create a code cell to convert minutes to hours</b>"
   ]
  },
  {
   "cell_type": "code",
   "execution_count": 3,
   "id": "b357ea28",
   "metadata": {},
   "outputs": [
    {
     "name": "stdout",
     "output_type": "stream",
     "text": [
      "5.0\n"
     ]
    }
   ],
   "source": [
    "#This will convert 300 minutes to hours by diving by 60.\n",
    "print(300/60)\n"
   ]
  },
  {
   "cell_type": "markdown",
   "id": "059c8336",
   "metadata": {},
   "source": [
    "<b>Exercise 10 - Insert a markdown cell to list Objectives</b>"
   ]
  },
  {
   "cell_type": "markdown",
   "id": "f135cd87",
   "metadata": {},
   "source": [
    "<b>Objectives:</b>\n",
    "* List popular languages for Data Science\n",
    "* List popular libraries for Data Science\n",
    "* List popular tools for Data Science\n"
   ]
  },
  {
   "cell_type": "markdown",
   "id": "434cc641",
   "metadata": {},
   "source": [
    "<b>Exercise 11 - Create a markdown cell to indicate the Author's name</b>"
   ]
  },
  {
   "cell_type": "markdown",
   "id": "8f09f3b4",
   "metadata": {},
   "source": [
    "<h2>Author</h2>\n",
    "MingLin"
   ]
  },
  {
   "cell_type": "markdown",
   "id": "1ec94b27",
   "metadata": {},
   "source": [
    "<b>Exercise 12 - Share your notebook through GitHub</b>"
   ]
  },
  {
   "cell_type": "markdown",
   "id": "76004264",
   "metadata": {},
   "source": [
    "<b>Exercise 13 -Take a screenshot of the first page of the notebook and save it as 1-notebook.png(Images can be saved with either the .jpg or .png extension.)</b>"
   ]
  }
 ],
 "metadata": {
  "kernelspec": {
   "display_name": "Python 3 (ipykernel)",
   "language": "python",
   "name": "python3"
  },
  "language_info": {
   "codemirror_mode": {
    "name": "ipython",
    "version": 3
   },
   "file_extension": ".py",
   "mimetype": "text/x-python",
   "name": "python",
   "nbconvert_exporter": "python",
   "pygments_lexer": "ipython3",
   "version": "3.11.3"
  }
 },
 "nbformat": 4,
 "nbformat_minor": 5
}
